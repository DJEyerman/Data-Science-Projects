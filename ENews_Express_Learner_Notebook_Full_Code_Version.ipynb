{
 "cells": [
  {
   "cell_type": "markdown",
   "id": "6yDxo9u0d9Na",
   "metadata": {
    "id": "6yDxo9u0d9Na"
   },
   "source": [
    "# Project Business Statistics: E-news Express\n",
    "\n",
    "**Marks: 60**"
   ]
  },
  {
   "cell_type": "markdown",
   "id": "5e229bbd",
   "metadata": {},
   "source": [
    "## Business Context\n",
    "\n",
    "The advent of e-news, or electronic news, portals has offered us a great opportunity to quickly get updates on the day-to-day events occurring globally. The information on these portals is retrieved electronically from online databases, processed using a variety of software, and then transmitted to the users. There are multiple advantages of transmitting new electronically, like faster access to the content and the ability to utilize different technologies such as audio, graphics, video, and other interactive elements that are either not being used or aren’t common yet in traditional newspapers.\n",
    "\n",
    "E-news Express, an online news portal, aims to expand its business by acquiring new subscribers. With every visitor to the website taking certain actions based on their interest, the company plans to analyze these actions to understand user interests and determine how to drive better engagement. The executives at E-news Express are of the opinion that there has been a decline in new monthly subscribers compared to the past year because the current webpage is not designed well enough in terms of the outline & recommended content to keep customers engaged long enough to make a decision to subscribe.\n",
    "\n",
    "[Companies often analyze user responses to two variants of a product to decide which of the two variants is more effective. This experimental technique, known as A/B testing, is used to determine whether a new feature attracts users based on a chosen metric.]\n",
    "\n",
    "## Objective\n",
    "\n",
    "The design team of the company has researched and created a new landing page that has a new outline & more relevant content shown compared to the old page. In order to test the effectiveness of the new landing page in gathering new subscribers, the Data Science team conducted an experiment by randomly selecting 100 users and dividing them equally into two groups. The existing landing page was served to the first group (control group) and the new landing page to the second group (treatment group). Data regarding the interaction of users in both groups with the two versions of the landing page was collected. Being a data scientist in E-news Express, you have been asked to explore the data and perform a statistical analysis (at a significance level of 5%) to determine the effectiveness of the new landing page in gathering new subscribers for the news portal by answering the following questions:\n",
    "\n",
    "   1. Do the users spend more time on the new landing page than on the existing landing page?\n",
    "   2. Is the conversion rate (the proportion of users who visit the landing page and get converted) for the new page greater than the conversion rate for the old page?\n",
    "   3. Does the converted status depend on the preferred language? [Hint: Create a contingency table using the pandas.crosstab() function]\n",
    "   4. Is the time spent on the new page the same for the different language users?\n",
    "\n",
    "## Data Dictionary\n",
    "\n",
    "The data contains information regarding the interaction of users in both groups with the two versions of the landing page.\n",
    "\n",
    "   1. user_id - Unique user ID of the person visiting the website\n",
    "   2. group - Whether the user belongs to the first group (control) or the second group (treatment)\n",
    "   3. landing_page - Whether the landing page is new or old\n",
    "   4. time_spent_on_the_page - Time (in minutes) spent by the user on the landing page\n",
    "   5. converted - Whether the user gets converted to a subscriber of the news portal or not\n",
    "   6. language_preferred - Language chosen by the user to view the landing page\n"
   ]
  },
  {
   "cell_type": "markdown",
   "id": "SrLd-ICEmPSD",
   "metadata": {
    "id": "SrLd-ICEmPSD"
   },
   "source": [
    "## Define Problem Statement and Objectives"
   ]
  },
  {
   "cell_type": "markdown",
   "id": "9Vt1PLLqmXNn",
   "metadata": {
    "id": "9Vt1PLLqmXNn"
   },
   "source": [
    "The goal of the test is not to see how well liked the is landing page is liked by the users.  The goal is to determine if the new landing page leads to more conversions of general users into subscribed users.  Like any good retail web site, the goal is to make a sale to a user and keep them coming back.  In this case, the sale is a subscription to the site and therefore a repeat customer.  Some of the ways this happens is: (from https://www.searchenginejournal.com/convert-website-visitors/202576/#close) \n",
    "1. Create Quality Content to Match Search Intent\n",
    "2. Use the Right Call To Action \n",
    "3. Focus on Design for Subscriptions\n",
    "4. Use Different Types of Content\n",
    "5. Use Lightboxes \n",
    "6. Advertise Your Subscription: Solve Problems\n",
    "7. Analyze Your Content\n",
    "\n",
    "It is important to note that the conversion rate for e-commerce sites is very low.  The following information covers 2020: \n",
    "<br>\n",
    "_The latest survey and studies in 2020 show that the average conversion rate of e-commerce websites is 2.86%. The average eCommerce website conversion rate in the US stands at 2.63% as compared to the global website conversion rate of 4.31%.\n",
    "<br>\n",
    "Source: https://www.invespcro.com/blog/the-average-website-conversion-rate-by-industry/#:~:text=The%20latest%20survey%20and%20studies,protected%20data%20on%20the%20web_\n",
    "\n",
    "Given this at the beginning of the project, I would set expectations that the conversion rate will be low and to not expect a 90% or better conversion rate.  A 5% conversion rate would be a great success.  \n",
    "\n",
    "Note: not mentioned here, but it would be interesting to know what the company's current conversion rate is.  "
   ]
  },
  {
   "cell_type": "markdown",
   "id": "a6a3d218",
   "metadata": {
    "id": "a6a3d218"
   },
   "source": [
    "## Import all the necessary libraries"
   ]
  },
  {
   "cell_type": "code",
   "execution_count": 1,
   "id": "658c5dec",
   "metadata": {
    "id": "658c5dec"
   },
   "outputs": [],
   "source": [
    "# Libraries to help with reading and manipulating data\n",
    "import numpy as np\n",
    "import pandas as pd\n",
    "\n",
    "# Libraries to help with data visualization\n",
    "import matplotlib.pyplot as plt\n",
    "import seaborn as sns\n",
    "\n",
    "# Command to tell Python to actually display the graphs\n",
    "%matplotlib inline\n",
    "\n",
    "import scipy.stats as stats  \n",
    "# this library contains a large number of probability distributions as well as a growing library of statistical functions\n",
    "\n",
    "from scipy.stats import binom\n",
    "from scipy.stats import uniform\n",
    "from scipy.stats import norm\n",
    "\n",
    "# disable warnings \n",
    "import warnings\n",
    "warnings.filterwarnings(\"ignore\")"
   ]
  },
  {
   "cell_type": "markdown",
   "id": "6970dd99",
   "metadata": {
    "id": "6970dd99"
   },
   "source": [
    "## Reading the Data into a DataFrame"
   ]
  },
  {
   "cell_type": "code",
   "execution_count": 2,
   "id": "d3b95640",
   "metadata": {
    "id": "d3b95640"
   },
   "outputs": [],
   "source": [
    "# read the data\n",
    "df = pd.read_csv('TestData_Files/abtest.csv')\n",
    "#Ran code on local machine using Anaconda\n"
   ]
  },
  {
   "cell_type": "markdown",
   "id": "10effe65",
   "metadata": {},
   "source": [
    "## Check of Data Quality and Characteristics"
   ]
  },
  {
   "cell_type": "markdown",
   "id": "eff6045d",
   "metadata": {},
   "source": [
    "The follow section looks at the collected data for its quality and characteristics.  The tests will determine: \n",
    "* Use head() and tail() to get a general look at the data \n",
    "* Check its shape \n",
    "* Determine if there are any non-null values and duplicates \n",
    "* Obtain value count for group and landing page \n",
    "    * Make sure there are 50 of each \n",
    "* Ensure 100 unique users \n",
    "\n",
    "Following a best practice recommendation, the data type for group, language_preferred, and converted are changed into category. "
   ]
  },
  {
   "cell_type": "code",
   "execution_count": 3,
   "id": "be264553",
   "metadata": {},
   "outputs": [
    {
     "data": {
      "text/html": [
       "<div>\n",
       "<style scoped>\n",
       "    .dataframe tbody tr th:only-of-type {\n",
       "        vertical-align: middle;\n",
       "    }\n",
       "\n",
       "    .dataframe tbody tr th {\n",
       "        vertical-align: top;\n",
       "    }\n",
       "\n",
       "    .dataframe thead th {\n",
       "        text-align: right;\n",
       "    }\n",
       "</style>\n",
       "<table border=\"1\" class=\"dataframe\">\n",
       "  <thead>\n",
       "    <tr style=\"text-align: right;\">\n",
       "      <th></th>\n",
       "      <th>user_id</th>\n",
       "      <th>group</th>\n",
       "      <th>landing_page</th>\n",
       "      <th>time_spent_on_the_page</th>\n",
       "      <th>converted</th>\n",
       "      <th>language_preferred</th>\n",
       "    </tr>\n",
       "  </thead>\n",
       "  <tbody>\n",
       "    <tr>\n",
       "      <th>0</th>\n",
       "      <td>546592</td>\n",
       "      <td>control</td>\n",
       "      <td>old</td>\n",
       "      <td>3.48</td>\n",
       "      <td>no</td>\n",
       "      <td>Spanish</td>\n",
       "    </tr>\n",
       "    <tr>\n",
       "      <th>1</th>\n",
       "      <td>546468</td>\n",
       "      <td>treatment</td>\n",
       "      <td>new</td>\n",
       "      <td>7.13</td>\n",
       "      <td>yes</td>\n",
       "      <td>English</td>\n",
       "    </tr>\n",
       "    <tr>\n",
       "      <th>2</th>\n",
       "      <td>546462</td>\n",
       "      <td>treatment</td>\n",
       "      <td>new</td>\n",
       "      <td>4.40</td>\n",
       "      <td>no</td>\n",
       "      <td>Spanish</td>\n",
       "    </tr>\n",
       "    <tr>\n",
       "      <th>3</th>\n",
       "      <td>546567</td>\n",
       "      <td>control</td>\n",
       "      <td>old</td>\n",
       "      <td>3.02</td>\n",
       "      <td>no</td>\n",
       "      <td>French</td>\n",
       "    </tr>\n",
       "    <tr>\n",
       "      <th>4</th>\n",
       "      <td>546459</td>\n",
       "      <td>treatment</td>\n",
       "      <td>new</td>\n",
       "      <td>4.75</td>\n",
       "      <td>yes</td>\n",
       "      <td>Spanish</td>\n",
       "    </tr>\n",
       "  </tbody>\n",
       "</table>\n",
       "</div>"
      ],
      "text/plain": [
       "   user_id      group landing_page  time_spent_on_the_page converted  \\\n",
       "0   546592    control          old                    3.48        no   \n",
       "1   546468  treatment          new                    7.13       yes   \n",
       "2   546462  treatment          new                    4.40        no   \n",
       "3   546567    control          old                    3.02        no   \n",
       "4   546459  treatment          new                    4.75       yes   \n",
       "\n",
       "  language_preferred  \n",
       "0            Spanish  \n",
       "1            English  \n",
       "2            Spanish  \n",
       "3             French  \n",
       "4            Spanish  "
      ]
     },
     "execution_count": 3,
     "metadata": {},
     "output_type": "execute_result"
    }
   ],
   "source": [
    "df.head()"
   ]
  },
  {
   "cell_type": "code",
   "execution_count": 4,
   "id": "a178f59f",
   "metadata": {},
   "outputs": [
    {
     "data": {
      "text/html": [
       "<div>\n",
       "<style scoped>\n",
       "    .dataframe tbody tr th:only-of-type {\n",
       "        vertical-align: middle;\n",
       "    }\n",
       "\n",
       "    .dataframe tbody tr th {\n",
       "        vertical-align: top;\n",
       "    }\n",
       "\n",
       "    .dataframe thead th {\n",
       "        text-align: right;\n",
       "    }\n",
       "</style>\n",
       "<table border=\"1\" class=\"dataframe\">\n",
       "  <thead>\n",
       "    <tr style=\"text-align: right;\">\n",
       "      <th></th>\n",
       "      <th>user_id</th>\n",
       "      <th>group</th>\n",
       "      <th>landing_page</th>\n",
       "      <th>time_spent_on_the_page</th>\n",
       "      <th>converted</th>\n",
       "      <th>language_preferred</th>\n",
       "    </tr>\n",
       "  </thead>\n",
       "  <tbody>\n",
       "    <tr>\n",
       "      <th>95</th>\n",
       "      <td>546446</td>\n",
       "      <td>treatment</td>\n",
       "      <td>new</td>\n",
       "      <td>5.15</td>\n",
       "      <td>no</td>\n",
       "      <td>Spanish</td>\n",
       "    </tr>\n",
       "    <tr>\n",
       "      <th>96</th>\n",
       "      <td>546544</td>\n",
       "      <td>control</td>\n",
       "      <td>old</td>\n",
       "      <td>6.52</td>\n",
       "      <td>yes</td>\n",
       "      <td>English</td>\n",
       "    </tr>\n",
       "    <tr>\n",
       "      <th>97</th>\n",
       "      <td>546472</td>\n",
       "      <td>treatment</td>\n",
       "      <td>new</td>\n",
       "      <td>7.07</td>\n",
       "      <td>yes</td>\n",
       "      <td>Spanish</td>\n",
       "    </tr>\n",
       "    <tr>\n",
       "      <th>98</th>\n",
       "      <td>546481</td>\n",
       "      <td>treatment</td>\n",
       "      <td>new</td>\n",
       "      <td>6.20</td>\n",
       "      <td>yes</td>\n",
       "      <td>Spanish</td>\n",
       "    </tr>\n",
       "    <tr>\n",
       "      <th>99</th>\n",
       "      <td>546483</td>\n",
       "      <td>treatment</td>\n",
       "      <td>new</td>\n",
       "      <td>5.86</td>\n",
       "      <td>yes</td>\n",
       "      <td>English</td>\n",
       "    </tr>\n",
       "  </tbody>\n",
       "</table>\n",
       "</div>"
      ],
      "text/plain": [
       "    user_id      group landing_page  time_spent_on_the_page converted  \\\n",
       "95   546446  treatment          new                    5.15        no   \n",
       "96   546544    control          old                    6.52       yes   \n",
       "97   546472  treatment          new                    7.07       yes   \n",
       "98   546481  treatment          new                    6.20       yes   \n",
       "99   546483  treatment          new                    5.86       yes   \n",
       "\n",
       "   language_preferred  \n",
       "95            Spanish  \n",
       "96            English  \n",
       "97            Spanish  \n",
       "98            Spanish  \n",
       "99            English  "
      ]
     },
     "execution_count": 4,
     "metadata": {},
     "output_type": "execute_result"
    }
   ],
   "source": [
    "df.tail()"
   ]
  },
  {
   "cell_type": "code",
   "execution_count": 5,
   "id": "854f5850",
   "metadata": {},
   "outputs": [],
   "source": [
    "#Changing the columns 'group' and 'language_perferred' into the category data type because that is what they are\n",
    "#Suggestion from Tasleem\n",
    "\n",
    "df['group'] = df.group.astype('category')\n",
    "df['language_preferred'] = df.language_preferred.astype('category')\n",
    "df['converted'] = df.converted.astype('category')"
   ]
  },
  {
   "cell_type": "code",
   "execution_count": 6,
   "id": "41beb55e",
   "metadata": {},
   "outputs": [
    {
     "name": "stdout",
     "output_type": "stream",
     "text": [
      "There are 100 rows and 6 columns.\n"
     ]
    }
   ],
   "source": [
    "print(\"There are\", df.shape[0], 'rows and', df.shape[1], \"columns.\")"
   ]
  },
  {
   "cell_type": "code",
   "execution_count": 5,
   "id": "66b8b837",
   "metadata": {},
   "outputs": [
    {
     "name": "stdout",
     "output_type": "stream",
     "text": [
      "<class 'pandas.core.frame.DataFrame'>\n",
      "RangeIndex: 100 entries, 0 to 99\n",
      "Data columns (total 6 columns):\n",
      " #   Column                  Non-Null Count  Dtype   \n",
      "---  ------                  --------------  -----   \n",
      " 0   user_id                 100 non-null    int64   \n",
      " 1   group                   100 non-null    category\n",
      " 2   landing_page            100 non-null    object  \n",
      " 3   time_spent_on_the_page  100 non-null    float64 \n",
      " 4   converted               100 non-null    category\n",
      " 5   language_preferred      100 non-null    category\n",
      "dtypes: category(3), float64(1), int64(1), object(1)\n",
      "memory usage: 3.1+ KB\n"
     ]
    }
   ],
   "source": [
    "df.info()"
   ]
  },
  {
   "cell_type": "code",
   "execution_count": 6,
   "id": "cd1c5d1a",
   "metadata": {},
   "outputs": [
    {
     "data": {
      "text/plain": [
       "user_id                   0\n",
       "group                     0\n",
       "landing_page              0\n",
       "time_spent_on_the_page    0\n",
       "converted                 0\n",
       "language_preferred        0\n",
       "dtype: int64"
      ]
     },
     "execution_count": 6,
     "metadata": {},
     "output_type": "execute_result"
    }
   ],
   "source": [
    "df.isnull().sum()"
   ]
  },
  {
   "cell_type": "code",
   "execution_count": 7,
   "id": "949eb38d",
   "metadata": {},
   "outputs": [
    {
     "data": {
      "text/html": [
       "<div>\n",
       "<style scoped>\n",
       "    .dataframe tbody tr th:only-of-type {\n",
       "        vertical-align: middle;\n",
       "    }\n",
       "\n",
       "    .dataframe tbody tr th {\n",
       "        vertical-align: top;\n",
       "    }\n",
       "\n",
       "    .dataframe thead th {\n",
       "        text-align: right;\n",
       "    }\n",
       "</style>\n",
       "<table border=\"1\" class=\"dataframe\">\n",
       "  <thead>\n",
       "    <tr style=\"text-align: right;\">\n",
       "      <th></th>\n",
       "      <th>user_id</th>\n",
       "      <th>group</th>\n",
       "      <th>landing_page</th>\n",
       "      <th>time_spent_on_the_page</th>\n",
       "      <th>converted</th>\n",
       "      <th>language_preferred</th>\n",
       "    </tr>\n",
       "  </thead>\n",
       "  <tbody>\n",
       "  </tbody>\n",
       "</table>\n",
       "</div>"
      ],
      "text/plain": [
       "Empty DataFrame\n",
       "Columns: [user_id, group, landing_page, time_spent_on_the_page, converted, language_preferred]\n",
       "Index: []"
      ]
     },
     "execution_count": 7,
     "metadata": {},
     "output_type": "execute_result"
    }
   ],
   "source": [
    "dups = df[df.duplicated()]\n",
    "dups"
   ]
  },
  {
   "cell_type": "code",
   "execution_count": 12,
   "id": "a98f8b3f",
   "metadata": {},
   "outputs": [
    {
     "name": "stdout",
     "output_type": "stream",
     "text": [
      "control      50\n",
      "treatment    50\n",
      "Name: group, dtype: int64\n",
      "\n",
      "\n"
     ]
    },
    {
     "data": {
      "text/plain": [
       "control      0.5\n",
       "treatment    0.5\n",
       "Name: group, dtype: float64"
      ]
     },
     "execution_count": 12,
     "metadata": {},
     "output_type": "execute_result"
    }
   ],
   "source": [
    "print(df['group'].value_counts())\n",
    "print('\\n')\n",
    "df['group'].value_counts(normalize=True)"
   ]
  },
  {
   "cell_type": "code",
   "execution_count": 5,
   "id": "ed98e048",
   "metadata": {},
   "outputs": [
    {
     "name": "stdout",
     "output_type": "stream",
     "text": [
      "old    50\n",
      "new    50\n",
      "Name: landing_page, dtype: int64\n",
      "\n",
      "\n"
     ]
    },
    {
     "data": {
      "text/plain": [
       "old    0.5\n",
       "new    0.5\n",
       "Name: landing_page, dtype: float64"
      ]
     },
     "execution_count": 5,
     "metadata": {},
     "output_type": "execute_result"
    }
   ],
   "source": [
    "print(df['landing_page'].value_counts())\n",
    "print('\\n')\n",
    "df['landing_page'].value_counts(normalize=True)"
   ]
  },
  {
   "cell_type": "code",
   "execution_count": 20,
   "id": "e53bfa28",
   "metadata": {},
   "outputs": [
    {
     "data": {
      "text/plain": [
       "100"
      ]
     },
     "execution_count": 20,
     "metadata": {},
     "output_type": "execute_result"
    }
   ],
   "source": [
    "df['user_id'].nunique()\n",
    "\n",
    "# This is to get the number of individual customers "
   ]
  },
  {
   "cell_type": "markdown",
   "id": "7a526582",
   "metadata": {},
   "source": [
    "The following can be determined from the quality and characteristics check: \n",
    "* Shape is 100 rows and 6 columns  \n",
    "* No non-null values \n",
    "* No duplicates \n",
    "* 50 users in control group and 50 in treatment group \n",
    "* 50 users use the old landing page and 50 use the new landing page \n",
    "* 100 unique users \n",
    "\n",
    "In summary, the data is fully populated and is clean.  It can be used for the test. "
   ]
  },
  {
   "cell_type": "markdown",
   "id": "eed75f4b",
   "metadata": {},
   "source": [
    "       "
   ]
  },
  {
   "cell_type": "markdown",
   "id": "9d75cfa2",
   "metadata": {
    "id": "9d75cfa2"
   },
   "source": [
    "## Explore the dataset and extract insights using Exploratory Data Analysis"
   ]
  },
  {
   "cell_type": "markdown",
   "id": "27201534",
   "metadata": {
    "id": "27201534"
   },
   "source": [
    "- Data Overview\n",
    "  - Viewing the first and last few rows of the dataset\n",
    "  - Checking the shape of the dataset\n",
    "  - Getting the statistical summary for the variables\n",
    "- Check for missing values\n",
    "- Check for duplicates"
   ]
  },
  {
   "cell_type": "markdown",
   "id": "2afcf615",
   "metadata": {},
   "source": [
    "The requested information was handled in the last section.  \n",
    "<br> \n",
    "This section will concentrate on the numeric data in the data set.  "
   ]
  },
  {
   "cell_type": "code",
   "execution_count": 8,
   "id": "e1ad11d4",
   "metadata": {
    "id": "e1ad11d4"
   },
   "outputs": [
    {
     "data": {
      "text/html": [
       "<div>\n",
       "<style scoped>\n",
       "    .dataframe tbody tr th:only-of-type {\n",
       "        vertical-align: middle;\n",
       "    }\n",
       "\n",
       "    .dataframe tbody tr th {\n",
       "        vertical-align: top;\n",
       "    }\n",
       "\n",
       "    .dataframe thead th {\n",
       "        text-align: right;\n",
       "    }\n",
       "</style>\n",
       "<table border=\"1\" class=\"dataframe\">\n",
       "  <thead>\n",
       "    <tr style=\"text-align: right;\">\n",
       "      <th></th>\n",
       "      <th>count</th>\n",
       "      <th>mean</th>\n",
       "      <th>std</th>\n",
       "      <th>min</th>\n",
       "      <th>25%</th>\n",
       "      <th>50%</th>\n",
       "      <th>75%</th>\n",
       "      <th>max</th>\n",
       "    </tr>\n",
       "  </thead>\n",
       "  <tbody>\n",
       "    <tr>\n",
       "      <th>user_id</th>\n",
       "      <td>100.0</td>\n",
       "      <td>546517.0000</td>\n",
       "      <td>52.295779</td>\n",
       "      <td>546443.00</td>\n",
       "      <td>546467.75</td>\n",
       "      <td>546492.500</td>\n",
       "      <td>546567.2500</td>\n",
       "      <td>546592.00</td>\n",
       "    </tr>\n",
       "    <tr>\n",
       "      <th>time_spent_on_the_page</th>\n",
       "      <td>100.0</td>\n",
       "      <td>5.3778</td>\n",
       "      <td>2.378166</td>\n",
       "      <td>0.19</td>\n",
       "      <td>3.88</td>\n",
       "      <td>5.415</td>\n",
       "      <td>7.0225</td>\n",
       "      <td>10.71</td>\n",
       "    </tr>\n",
       "  </tbody>\n",
       "</table>\n",
       "</div>"
      ],
      "text/plain": [
       "                        count         mean        std        min        25%  \\\n",
       "user_id                 100.0  546517.0000  52.295779  546443.00  546467.75   \n",
       "time_spent_on_the_page  100.0       5.3778   2.378166       0.19       3.88   \n",
       "\n",
       "                               50%          75%        max  \n",
       "user_id                 546492.500  546567.2500  546592.00  \n",
       "time_spent_on_the_page       5.415       7.0225      10.71  "
      ]
     },
     "execution_count": 8,
     "metadata": {},
     "output_type": "execute_result"
    }
   ],
   "source": [
    "df.describe().T"
   ]
  },
  {
   "cell_type": "markdown",
   "id": "e3b8775f",
   "metadata": {},
   "source": [
    "For time spent on Landing Page: \n",
    "* mean = 5.778\n",
    "* standard deviation = 2.378166\n",
    "* min = 0.19 \n",
    "* max = 10.71\n",
    "* 25% = 3.88 \n",
    "* 50% (median) = 5.415 \n",
    "* 75% = 7.0225 "
   ]
  },
  {
   "cell_type": "code",
   "execution_count": 15,
   "id": "8021a0c5",
   "metadata": {},
   "outputs": [
    {
     "name": "stdout",
     "output_type": "stream",
     "text": [
      "The number of users who converted to a subscription is:\n",
      "yes    54\n",
      "no     46\n",
      "Name: converted, dtype: int64\n",
      "\n",
      "The conversion percentage is:\n"
     ]
    },
    {
     "data": {
      "text/plain": [
       "yes    0.54\n",
       "no     0.46\n",
       "Name: converted, dtype: float64"
      ]
     },
     "execution_count": 15,
     "metadata": {},
     "output_type": "execute_result"
    }
   ],
   "source": [
    "print('The number of users who converted to a subscription is:')\n",
    "print(df['converted'].value_counts())\n",
    "print('\\nThe conversion percentage is:')\n",
    "df['converted'].value_counts(normalize=True)"
   ]
  },
  {
   "cell_type": "markdown",
   "id": "3ca4c7e7",
   "metadata": {},
   "source": [
    "More users converted to subscriptions than not.  How the new landing page influenced this choice needs to be determined.  "
   ]
  },
  {
   "cell_type": "code",
   "execution_count": 16,
   "id": "646e765f",
   "metadata": {},
   "outputs": [
    {
     "name": "stdout",
     "output_type": "stream",
     "text": [
      "The distribution of languages is: \n",
      "French     34\n",
      "Spanish    34\n",
      "English    32\n",
      "Name: language_preferred, dtype: int64\n",
      "\n",
      "The language preference percentage is:\n"
     ]
    },
    {
     "data": {
      "text/plain": [
       "French     0.34\n",
       "Spanish    0.34\n",
       "English    0.32\n",
       "Name: language_preferred, dtype: float64"
      ]
     },
     "execution_count": 16,
     "metadata": {},
     "output_type": "execute_result"
    }
   ],
   "source": [
    "print('The distribution of languages is: ')\n",
    "print(df['language_preferred'].value_counts())\n",
    "print('\\nThe language preference percentage is:')\n",
    "df['language_preferred'].value_counts(normalize=True)"
   ]
  },
  {
   "cell_type": "markdown",
   "id": "d80aa04d",
   "metadata": {},
   "source": [
    "The langauge preference between English, French, and Spanish is just about the same.  It is roughly a third each.  There is no clear dominate language.  In other words, it is highly unlikely that presenting web content in one language or another will have a great affect on the conversion rate.  "
   ]
  },
  {
   "cell_type": "markdown",
   "id": "68f3b2c9",
   "metadata": {
    "id": "68f3b2c9"
   },
   "source": [
    "### Univariate Analysis"
   ]
  },
  {
   "cell_type": "markdown",
   "id": "ae6af106",
   "metadata": {},
   "source": [
    "Graphs are very helpful, but I like looking at the raw numbers.  \n",
    "<br>\n",
    "I have also found it helpful when presenting to a C-Suite executives to present graphs and to also have the numbers available in case they want to see them.  "
   ]
  },
  {
   "cell_type": "code",
   "execution_count": 9,
   "id": "090e6891",
   "metadata": {},
   "outputs": [
    {
     "name": "stdout",
     "output_type": "stream",
     "text": [
      "Mean time spent on new and old landing page for all users\n",
      "landing_page\n",
      "new    6.2232\n",
      "old    4.5324\n",
      "Name: time_spent_on_the_page, dtype: float64\n",
      "\n",
      "Median time spent on new and old landing page for all users\n",
      "landing_page\n",
      "new    6.105\n",
      "old    4.380\n",
      "Name: time_spent_on_the_page, dtype: float64\n",
      "\n",
      " Mean time spent on new and old landing page for all users by language preference\n",
      "language_preferred\n",
      "English    5.559062\n",
      "French     5.253235\n",
      "Spanish    5.331765\n",
      "Name: time_spent_on_the_page, dtype: float64\n",
      "\n",
      " Median time spent on new and old landing page for all users by language preference\n",
      "language_preferred\n",
      "English    5.755\n",
      "French     5.315\n",
      "Spanish    5.605\n",
      "Name: time_spent_on_the_page, dtype: float64\n",
      "\n",
      " Mean time spent on new and old landing page for all users by choice to convert\n",
      "converted\n",
      "no     3.915870\n",
      "yes    6.623148\n",
      "Name: time_spent_on_the_page, dtype: float64\n",
      "\n",
      " Median time spent on new and old landing page for all users by choice to convert\n",
      "converted\n",
      "no     3.980\n",
      "yes    6.495\n",
      "Name: time_spent_on_the_page, dtype: float64\n",
      "\n",
      "\n"
     ]
    }
   ],
   "source": [
    "print('Mean time spent on new and old landing page for all users')\n",
    "print(df.groupby(['landing_page'])['time_spent_on_the_page'].mean()) \n",
    "print('\\nMedian time spent on new and old landing page for all users')\n",
    "print(df.groupby(['landing_page'])['time_spent_on_the_page'].median()) \n",
    "print('\\n Mean time spent on new and old landing page for all users by language preference')\n",
    "print(df.groupby(['language_preferred'])['time_spent_on_the_page'].mean()) \n",
    "print('\\n Median time spent on new and old landing page for all users by language preference')\n",
    "print(df.groupby(['language_preferred'])['time_spent_on_the_page'].median()) \n",
    "print('\\n Mean time spent on new and old landing page for all users by choice to convert')\n",
    "print(df.groupby(['converted'])['time_spent_on_the_page'].mean()) \n",
    "print('\\n Median time spent on new and old landing page for all users by choice to convert')\n",
    "print(df.groupby(['converted'])['time_spent_on_the_page'].median()) \n",
    "print('\\n')"
   ]
  },
  {
   "cell_type": "markdown",
   "id": "5e2af9c3",
   "metadata": {},
   "source": [
    "Users are spending more time on the new page and if they convert, spend roughly double the amount of time on the new page.  This shows the popularity of the new page, but this test is to determine if there is an increase in conversion rates.  Time spent on the new landing page is just \"icing on the cake\". "
   ]
  },
  {
   "cell_type": "code",
   "execution_count": 12,
   "id": "a0ad90e1",
   "metadata": {},
   "outputs": [
    {
     "name": "stdout",
     "output_type": "stream",
     "text": [
      "Of English users, 21 converted to the new page and 11 did not\n",
      "Of French users, 19 converted to the new page and 15 did not\n",
      "Of Spanish users, 18 converted to the new page and 16 did not\n"
     ]
    }
   ],
   "source": [
    "langdf = df[df['language_preferred'] == 'English']\n",
    "engconv = langdf['converted'].value_counts()\n",
    "langdf = df[df['language_preferred'] == 'French']\n",
    "freconv = langdf['converted'].value_counts()\n",
    "langdf = df[df['language_preferred'] == 'Spanish']\n",
    "spaconv = langdf['converted'].value_counts()\n",
    "print('Of English users,', engconv[0], 'converted to the new page and', engconv[1], 'did not')\n",
    "print('Of French users,', freconv[0], 'converted to the new page and', freconv[1], 'did not')\n",
    "print('Of Spanish users,', spaconv[0], 'converted to the new page and', spaconv[1], 'did not')"
   ]
  },
  {
   "cell_type": "markdown",
   "id": "6dcb901f",
   "metadata": {},
   "source": [
    "From the raw numbers, it appears the conversion rate for each language is roughly the same and is causing users to convert.  However, the statistical tests need to be run to determine if this is actually the case.  "
   ]
  },
  {
   "cell_type": "code",
   "execution_count": 17,
   "id": "1932d0f3",
   "metadata": {
    "id": "1932d0f3"
   },
   "outputs": [
    {
     "data": {
      "image/png": "[encoded data removed]",
      "text/plain": [
       "<Figure size 1224x432 with 2 Axes>"
      ]
     },
     "metadata": {
      "needs_background": "light"
     },
     "output_type": "display_data"
    }
   ],
   "source": [
    "plt.figure(figsize=(17, 6))\n",
    "\n",
    "plt.subplot(131)\n",
    "plt.title('Time on Landing Page')\n",
    "plt.xlabel('Time on Landing Page')  \n",
    "sns.boxplot(data=df, x='time_spent_on_the_page', showmeans=True);\n",
    "\n",
    "plt.subplot(132)\n",
    "plt.title('Time on Landing Page Histogram')\n",
    "plt.xlabel('Time on Landing Page')\n",
    "sns.histplot(data=df, x='time_spent_on_the_page', kde = True);\n",
    "\n",
    "plt.tight_layout(w_pad=5)"
   ]
  },
  {
   "cell_type": "markdown",
   "id": "f7540376",
   "metadata": {},
   "source": [
    "The distribution of the time on the landing page including both the new and old pages is roughly normal.  \n",
    "<br>\n",
    "The mean and the median of the time on the landing page is bascially the same. "
   ]
  },
  {
   "cell_type": "code",
   "execution_count": 18,
   "id": "82179e77",
   "metadata": {},
   "outputs": [
    {
     "data": {
      "image/png": "[encoded data removed]",
      "text/plain": [
       "<Figure size 1224x432 with 2 Axes>"
      ]
     },
     "metadata": {
      "needs_background": "light"
     },
     "output_type": "display_data"
    }
   ],
   "source": [
    "olddf = df[df['landing_page'] == 'old']\n",
    "plt.figure(figsize=(17, 6))\n",
    "\n",
    "plt.subplot(131)\n",
    "plt.title('Time on Landing Page -- old page')\n",
    "plt.xlabel('Time on Landing Page -- old page')  \n",
    "sns.boxplot(data=olddf, x='time_spent_on_the_page', showmeans=True);\n",
    "\n",
    "plt.subplot(132)\n",
    "plt.title('Time on Landing Page -- old page -- Histogram')\n",
    "plt.xlabel('Time on Landing Page -- old page')\n",
    "sns.histplot(data=olddf, x='time_spent_on_the_page', kde = True);\n",
    "\n",
    "plt.tight_layout(w_pad=5)\n",
    "del olddf    # free the memory "
   ]
  },
  {
   "cell_type": "code",
   "execution_count": 19,
   "id": "b3276900",
   "metadata": {},
   "outputs": [
    {
     "data": {
      "image/png": "[encoded data removed]",
      "text/plain": [
       "<Figure size 1224x432 with 2 Axes>"
      ]
     },
     "metadata": {
      "needs_background": "light"
     },
     "output_type": "display_data"
    }
   ],
   "source": [
    "newdf = df[df['landing_page'] == 'new']\n",
    "plt.figure(figsize=(17, 6))\n",
    "\n",
    "plt.subplot(131)\n",
    "plt.title('Time on Landing Page -- new page')\n",
    "plt.xlabel('Time on Landing Page -- new page')  \n",
    "sns.boxplot(data=newdf, x='time_spent_on_the_page', showmeans=True);\n",
    "\n",
    "plt.subplot(132)\n",
    "plt.title('Time on Landing Page -- new page -- Histogram')\n",
    "plt.xlabel('Time on Landing Page -- new page')\n",
    "sns.histplot(data=newdf, x='time_spent_on_the_page', kde = True);\n",
    "\n",
    "plt.tight_layout(w_pad=5)\n",
    "del newdf    # free the memory "
   ]
  },
  {
   "cell_type": "markdown",
   "id": "376b1a3b",
   "metadata": {},
   "source": [
    "Users are spending more time on the new page and if they convert, spend roughly double the amount of time on the new page.  This shows the popularity of the new page, but this test is to determine if there is an increase in conversion rates.  Time spent on the new landing page is just \"icing on the cake\". "
   ]
  },
  {
   "cell_type": "code",
   "execution_count": 36,
   "id": "129baf1f",
   "metadata": {},
   "outputs": [
    {
     "data": {
      "image/png": "[encoded data removed]",
      "text/plain": [
       "<Figure size 720x504 with 1 Axes>"
      ]
     },
     "metadata": {
      "needs_background": "light"
     },
     "output_type": "display_data"
    }
   ],
   "source": [
    "plt.figure(figsize=(10,7))\n",
    "plt.title('Language Preferred')\n",
    "plt.xlabel('language_preferred')\n",
    "ax = sns.countplot(data=df,x='language_preferred',  order = df['language_preferred'].value_counts().index)\n",
    "ax.bar_label(ax.containers[0]);"
   ]
  },
  {
   "cell_type": "code",
   "execution_count": 37,
   "id": "640c3932",
   "metadata": {},
   "outputs": [
    {
     "data": {
      "image/png": "[encoded data removed]",
      "text/plain": [
       "<Figure size 720x504 with 1 Axes>"
      ]
     },
     "metadata": {
      "needs_background": "light"
     },
     "output_type": "display_data"
    }
   ],
   "source": [
    "plt.figure(figsize=(10,7))\n",
    "plt.title('Converted to Subscription')\n",
    "plt.xlabel('converted')\n",
    "ax = sns.countplot(data=df,x='converted',  order = df['converted'].value_counts().index) \n",
    "ax.bar_label(ax.containers[0]); "
   ]
  },
  {
   "cell_type": "code",
   "execution_count": 18,
   "id": "8cae6445",
   "metadata": {},
   "outputs": [
    {
     "name": "stdout",
     "output_type": "stream",
     "text": [
      "Of the 50 users with the old landing page, the following number of users converted to subscriptions:\n",
      "no     29\n",
      "yes    21\n",
      "Name: converted, dtype: int64\n",
      "\n",
      "This is the percentage of users with the old landing page that converted to subscriptions:\n",
      "no     0.58\n",
      "yes    0.42\n",
      "Name: converted, dtype: float64\n",
      "\n",
      "\n",
      "Of the 50 users with the new landing page, the following number of users converted to subscriptions:\n",
      "no     29\n",
      "yes    21\n",
      "Name: converted, dtype: int64\n",
      "\n",
      "This is the percentage of users with the new landing page that converted to subscriptions:\n",
      "no     0.58\n",
      "yes    0.42\n",
      "Name: converted, dtype: float64\n"
     ]
    }
   ],
   "source": [
    "olddf = df[df['landing_page'] == 'old']\n",
    "newdf = df[df['landing_page'] == 'new']\n",
    "print('Of the 50 users with the old landing page, the following number of users converted to subscriptions:')\n",
    "print(olddf['converted'].value_counts())\n",
    "print('\\nThis is the percentage of users with the old landing page that converted to subscriptions:')\n",
    "print(olddf['converted'].value_counts(normalize=True))\n",
    "print('\\n')\n",
    "print('Of the 50 users with the new landing page, the following number of users converted to subscriptions:')\n",
    "print(olddf['converted'].value_counts())\n",
    "print('\\nThis is the percentage of users with the new landing page that converted to subscriptions:')\n",
    "print(olddf['converted'].value_counts(normalize=True))\n",
    "\n",
    "del olddf     #free memory and deleting so it does not interfear with another use of olddf later \n",
    "del newdf     #free memory and deleting so it does not interfear with another use of newdf later"
   ]
  },
  {
   "cell_type": "markdown",
   "id": "3974ec4b",
   "metadata": {},
   "source": [
    "More people converted than not, but the statistical test needs to be performed to determine its relavancy. \n",
    "<br>\n",
    "The overall conversion rate for both the old and new landing page is 42% which is higher than the national average. \n",
    "<br> \n",
    "From running the last set of numbers on the conversion rate between the old and new landing pages, it appears quiet likely that there will not be a statistical difference between the conversion rate for the old and new landing page. "
   ]
  },
  {
   "cell_type": "markdown",
   "id": "fad2de2f",
   "metadata": {
    "id": "fad2de2f"
   },
   "source": [
    "### Bivariate Analysis"
   ]
  },
  {
   "cell_type": "markdown",
   "id": "75385a81",
   "metadata": {},
   "source": [
    "The first set of tests is for time on landing page in general and then by language perferrence. The analysis for time on the landing page for the old and new pages was completed in the last section. "
   ]
  },
  {
   "cell_type": "code",
   "execution_count": 22,
   "id": "58e9a1d0",
   "metadata": {
    "id": "58e9a1d0"
   },
   "outputs": [
    {
     "data": {
      "image/png": "[encoded data removed]",
      "text/plain": [
       "<Figure size 720x504 with 1 Axes>"
      ]
     },
     "metadata": {
      "needs_background": "light"
     },
     "output_type": "display_data"
    }
   ],
   "source": [
    "plt.figure(figsize=(10,7))\n",
    "plt.title('Time on Landing Page')\n",
    "plt.xlabel('Old and New Landing Page')\n",
    "plt.ylabel('Time on Landing Page')\n",
    "sns.boxplot(data=df, x='landing_page', y='time_spent_on_the_page', \n",
    "            order=['old','new'], showmeans=True)\n",
    "plt.grid()\n",
    "plt.show();\n"
   ]
  },
  {
   "cell_type": "code",
   "execution_count": 21,
   "id": "7be34a06",
   "metadata": {},
   "outputs": [
    {
     "data": {
      "image/png": "[encoded data removed]",
      "text/plain": [
       "<Figure size 720x504 with 1 Axes>"
      ]
     },
     "metadata": {
      "needs_background": "light"
     },
     "output_type": "display_data"
    }
   ],
   "source": [
    "plt.figure(figsize=(10,7))\n",
    "plt.title('Time on Landing Page by Language Preference')\n",
    "plt.xlabel('Old and New Landing Page')\n",
    "plt.ylabel('Time on Landing Page')\n",
    "sns.boxplot(data=df, x='landing_page', y='time_spent_on_the_page', hue='language_preferred', \n",
    "            order=['old','new'], showmeans=True)\n",
    "plt.grid()\n",
    "plt.show();"
   ]
  },
  {
   "cell_type": "markdown",
   "id": "2c61db24",
   "metadata": {},
   "source": [
    "More time is being spent on the new page and it appears to be indepent of the language preferrence. "
   ]
  },
  {
   "cell_type": "markdown",
   "id": "9fcb856e",
   "metadata": {},
   "source": [
    "       "
   ]
  },
  {
   "cell_type": "markdown",
   "id": "0b8eb9fa",
   "metadata": {},
   "source": [
    "This analysis will look at the conversion rate for the old and new landing pages by langauge preferrence. "
   ]
  },
  {
   "cell_type": "code",
   "execution_count": 24,
   "id": "9c4db4c0",
   "metadata": {},
   "outputs": [
    {
     "data": {
      "image/png": "[encoded data removed]",
      "text/plain": [
       "<Figure size 720x504 with 1 Axes>"
      ]
     },
     "metadata": {
      "needs_background": "light"
     },
     "output_type": "display_data"
    }
   ],
   "source": [
    "plt.figure(figsize=(10,7))\n",
    "plt.title('Conversion Level - Old and New')\n",
    "plt.xlabel('Conversion')\n",
    "plt.ylabel('Time on Landing Page')\n",
    "sns.boxplot(data=df, x='converted', y='time_spent_on_the_page', \n",
    "            order=['no','yes'], showmeans=True)\n",
    "plt.grid()\n",
    "plt.show();"
   ]
  },
  {
   "cell_type": "code",
   "execution_count": 23,
   "id": "08da63e3",
   "metadata": {},
   "outputs": [
    {
     "data": {
      "image/png": "[encoded data removed]",
      "text/plain": [
       "<Figure size 720x504 with 1 Axes>"
      ]
     },
     "metadata": {
      "needs_background": "light"
     },
     "output_type": "display_data"
    }
   ],
   "source": [
    "plt.figure(figsize=(10,7))\n",
    "plt.title('Conversion Level - Old and New')\n",
    "plt.xlabel('Preferred Language')\n",
    "plt.ylabel('Time on Landing Page')\n",
    "sns.boxplot(data=df, x='language_preferred', y='time_spent_on_the_page', showmeans=True)\n",
    "plt.grid()\n",
    "plt.show();"
   ]
  },
  {
   "cell_type": "code",
   "execution_count": 25,
   "id": "38c9b8a0",
   "metadata": {},
   "outputs": [
    {
     "data": {
      "image/png": "[encoded data removed]",
      "text/plain": [
       "<Figure size 792x576 with 1 Axes>"
      ]
     },
     "metadata": {
      "needs_background": "light"
     },
     "output_type": "display_data"
    }
   ],
   "source": [
    "plt.figure(figsize=(11,8))\n",
    "plt.title('Conversion Level by Language Preference')\n",
    "plt.xlabel('Conversion')\n",
    "plt.ylabel('Time on Landing Page')\n",
    "sns.boxplot(data=df, x='converted', y='time_spent_on_the_page', order=['no','yes'], \n",
    "            hue='language_preferred', showmeans=True)\n",
    "plt.grid()\n",
    "plt.show();"
   ]
  },
  {
   "cell_type": "markdown",
   "id": "6753143c",
   "metadata": {},
   "source": [
    "Conversion levels for the page are higher than the old page, but it appears the conversion rates are indenpent of the language selection.  "
   ]
  },
  {
   "cell_type": "markdown",
   "id": "d4b61e04",
   "metadata": {},
   "source": [
    "      "
   ]
  },
  {
   "cell_type": "markdown",
   "id": "27906576",
   "metadata": {
    "id": "27906576"
   },
   "source": [
    "## 1. Do the users spend more time on the new landing page than the existing landing page?"
   ]
  },
  {
   "cell_type": "markdown",
   "id": "e5fdf0c8",
   "metadata": {
    "id": "e5fdf0c8"
   },
   "source": [
    "### Perform Visual Analysis"
   ]
  },
  {
   "cell_type": "code",
   "execution_count": 7,
   "id": "418b7cbc",
   "metadata": {},
   "outputs": [
    {
     "name": "stdout",
     "output_type": "stream",
     "text": [
      "Total time spent on new and old landing page for all users -- sum of all time\n",
      "landing_page\n",
      "new    311.16\n",
      "old    226.62\n",
      "Name: time_spent_on_the_page, dtype: float64\n",
      "\n",
      " Mean time spent on new and old landing page for all users\n",
      "landing_page\n",
      "new    6.2232\n",
      "old    4.5324\n",
      "Name: time_spent_on_the_page, dtype: float64\n",
      "\n",
      " Standard deviation for time spent on new and old landing page for all users\n",
      "new page: 1.8170310387878268\n",
      "old page: 2.581974849306046\n",
      "\n",
      " Minimum time spent on new and old landing page for all users\n",
      "landing_page\n",
      "new    1.65\n",
      "old    0.19\n",
      "Name: time_spent_on_the_page, dtype: float64\n",
      "\n",
      " Maxium time spent on new and old landing page for all users\n",
      "landing_page\n",
      "new    10.71\n",
      "old    10.30\n",
      "Name: time_spent_on_the_page, dtype: float64\n",
      "\n",
      "\n"
     ]
    }
   ],
   "source": [
    "print('Total time spent on new and old landing page for all users -- sum of all time')\n",
    "print(df.groupby(['landing_page'])['time_spent_on_the_page'].sum())\n",
    "print('\\n Mean time spent on new and old landing page for all users')\n",
    "print(df.groupby(['landing_page'])['time_spent_on_the_page'].mean()) \n",
    "print('\\n Standard deviation for time spent on new and old landing page for all users')\n",
    "std_new, std_old = df.groupby(['landing_page'])['time_spent_on_the_page'].std()\n",
    "print('new page:', std_new)\n",
    "print('old page:', std_old)\n",
    "print('\\n Minimum time spent on new and old landing page for all users')\n",
    "print(df.groupby(['landing_page'])['time_spent_on_the_page'].min())\n",
    "print('\\n Maxium time spent on new and old landing page for all users')\n",
    "print(df.groupby(['landing_page'])['time_spent_on_the_page'].max()) \n",
    "print('\\n')"
   ]
  },
  {
   "cell_type": "code",
   "execution_count": 33,
   "id": "6eZJa41eg21n",
   "metadata": {
    "id": "6eZJa41eg21n"
   },
   "outputs": [
    {
     "data": {
      "image/png": "[encoded data removed]",
      "text/plain": [
       "<Figure size 720x504 with 1 Axes>"
      ]
     },
     "metadata": {
      "needs_background": "light"
     },
     "output_type": "display_data"
    },
    {
     "name": "stdout",
     "output_type": "stream",
     "text": [
      "\n",
      "\n"
     ]
    },
    {
     "data": {
      "image/png": "[encoded data removed]",
      "text/plain": [
       "<Figure size 792x576 with 1 Axes>"
      ]
     },
     "metadata": {
      "needs_background": "light"
     },
     "output_type": "display_data"
    }
   ],
   "source": [
    "plt.figure(figsize=(10,7))\n",
    "plt.title('Time on Landing Page')\n",
    "plt.xlabel('Old and New Landing Page')\n",
    "plt.ylabel('Time on Landing Page')\n",
    "sns.boxplot(data=df, x='landing_page', y='time_spent_on_the_page', order=['old','new'], showmeans=True)\n",
    "plt.grid()\n",
    "plt.show()\n",
    "print('\\n')\n",
    "plt.figure(figsize=(11,8))\n",
    "sns.boxplot(data=df, x='converted', y='time_spent_on_the_page', order=['no','yes'], \n",
    "            hue='language_preferred', showmeans=True)\n",
    "plt.grid()\n",
    "plt.show();"
   ]
  },
  {
   "cell_type": "markdown",
   "id": "56b3dafd",
   "metadata": {
    "id": "56b3dafd"
   },
   "source": [
    "### Step 1: Define the null and alternate hypotheses"
   ]
  },
  {
   "cell_type": "markdown",
   "id": "d2ac77ef",
   "metadata": {
    "id": "d2ac77ef"
   },
   "source": [
    "𝐻0:𝜇1=𝜇2\n",
    "\n",
    "𝐻𝑎:𝜇1<𝜇2\n",
    "\n",
    "𝜇1 or mu1 is mean of old landing page \n",
    "<br>\n",
    "𝜇2 or mu2 is mean of new landing page "
   ]
  },
  {
   "cell_type": "markdown",
   "id": "c7ee4907",
   "metadata": {
    "id": "c7ee4907"
   },
   "source": [
    "### Step 2: Select Appropriate test"
   ]
  },
  {
   "cell_type": "markdown",
   "id": "2c183cd7",
   "metadata": {
    "id": "2c183cd7"
   },
   "source": [
    "This is a comparison of the sample means from 2 independent populations when the standard deviations are unknown.\n",
    "\n",
    "2-sample independent t-test\n",
    "\n",
    "From the Week 3 notebook: \n",
    "<br>\n",
    "_Let's test whether the T-test assumptions are satisfied or not_\n",
    "\n",
    "    Continuous data - Yes, the SAT score is measured on a continuous scale.\n",
    "    Normally distributed populations - Yes, we are informed that the populations are assumed to be normal.\n",
    "    Independent populations - As we are taking random samples for two different groups, the two samples are from two independent populations.\n",
    "    Unequal population standard deviations - As the sample standard deviations are different, the population standard deviations may be assumed to be different.\n",
    "    Random sampling from the population - Yes, we are informed that the collected sample a simple random sample.\n",
    "\n",
    "_Voila! We can use two sample T-test for this problem._\n"
   ]
  },
  {
   "cell_type": "markdown",
   "id": "3f58c9a7",
   "metadata": {
    "id": "3f58c9a7"
   },
   "source": [
    "### Step 3: Decide the significance level"
   ]
  },
  {
   "cell_type": "markdown",
   "id": "92d7d7ee",
   "metadata": {
    "id": "92d7d7ee"
   },
   "source": [
    "As mentioned in the \"Objective\" section, the significance level is 5% or 𝛼=0.05"
   ]
  },
  {
   "cell_type": "markdown",
   "id": "5fed2eac",
   "metadata": {
    "id": "5fed2eac"
   },
   "source": [
    "### Step 4: Collect and prepare data"
   ]
  },
  {
   "cell_type": "code",
   "execution_count": 8,
   "id": "f5a59495",
   "metadata": {
    "id": "f5a59495"
   },
   "outputs": [
    {
     "name": "stdout",
     "output_type": "stream",
     "text": [
      "Rounded to 2 decimal places, the new page standard deviation is: 1.82 and the old page standard deviation is: 2.58\n"
     ]
    }
   ],
   "source": [
    "# rounding the new and old standard deviations to 2 decimal places \n",
    "std_new = round(std_new,2)\n",
    "std_old = round(std_old,2)\n",
    "print('Rounded to 2 decimal places, the new page standard deviation is:', std_new, \n",
    "      'and the old page standard deviation is:', std_old)\n",
    "\n",
    "newdf = df[df['landing_page'] == 'new']\n",
    "olddf = df[df['landing_page'] == 'old']"
   ]
  },
  {
   "cell_type": "markdown",
   "id": "f5c5258d",
   "metadata": {
    "id": "f5c5258d"
   },
   "source": [
    "### Step 5: Calculate the p-value"
   ]
  },
  {
   "cell_type": "code",
   "execution_count": 39,
   "id": "fac8594a",
   "metadata": {
    "id": "fac8594a"
   },
   "outputs": [
    {
     "name": "stdout",
     "output_type": "stream",
     "text": [
      "t-stat is: 3.7867702694199856 \n",
      "p-value is:  0.0001392381225166549\n"
     ]
    }
   ],
   "source": [
    "#import the required functions\n",
    "from scipy.stats import ttest_ind\n",
    "\n",
    "# find the p-value\n",
    "test_stat, p_value = ttest_ind(newdf['time_spent_on_the_page'], olddf['time_spent_on_the_page'].dropna(), \n",
    "                               equal_var = False, alternative = 'greater')\n",
    "print('t-stat is:', test_stat, '\\np-value is: ', p_value)"
   ]
  },
  {
   "cell_type": "markdown",
   "id": "359b12f8",
   "metadata": {
    "id": "359b12f8"
   },
   "source": [
    "### Step 6: Compare the p-value with $\\alpha$"
   ]
  },
  {
   "cell_type": "code",
   "execution_count": 19,
   "id": "2a4e6083",
   "metadata": {},
   "outputs": [
    {
     "name": "stdout",
     "output_type": "stream",
     "text": [
      "As the p-value 0.0001392381225166549 is less than the level of significance, we reject the null hypothesis.\n"
     ]
    }
   ],
   "source": [
    "# print the conclusion based on p-value\n",
    "if p_value < 0.05:\n",
    "    print('As the p-value',p_value, 'is less than the level of significance, we reject the null hypothesis.')\n",
    "else:\n",
    "    print('As the p-value', p_value, 'is greater than the level of significance, we fail to reject the null hypothesis.')"
   ]
  },
  {
   "cell_type": "markdown",
   "id": "ee7677ce",
   "metadata": {
    "id": "7be47289"
   },
   "source": [
    "The p-value is:  0.0001392381225166549 which is much less than the the significance level is 5% or 𝛼=0.05. \n",
    "\n",
    "Given this, the null hypothesis has to be rejected.  The users are spending more time on the new landing page than the old landing page.  "
   ]
  },
  {
   "cell_type": "markdown",
   "id": "d9affc84",
   "metadata": {
    "id": "d9affc84"
   },
   "source": [
    "### Step 7:  Draw inference"
   ]
  },
  {
   "cell_type": "markdown",
   "id": "fe9064a8",
   "metadata": {
    "id": "6b16dd4b"
   },
   "source": [
    "The p-value is much lower than the sigificance level or alpha so the null hypothesis must be rejected.  Therefore, the users are spending more time on the new landing page than the old landing page.  This hypothesis is futher reinforced by looking at the total time users are spending on each landing pahe whihch is: \n",
    "* new page:    311.16\n",
    "* old page:    226.62\n",
    "\n",
    "There is a sizable difference (84.54 minutes) between how much time users are spending on each landing page.  Just from these numbers, it is obvious that users like the new landing page better.  With this test, there is now the statistical proof.  \n",
    "\n",
    "This was also seen in the test that were run in the univariate and bivariate analysis sections. "
   ]
  },
  {
   "cell_type": "markdown",
   "id": "1ad0823a",
   "metadata": {
    "id": "1ad0823a"
   },
   "source": [
    "**A similar approach can be followed to answer the other questions.**"
   ]
  },
  {
   "cell_type": "markdown",
   "id": "b10115d7",
   "metadata": {},
   "source": [
    "      "
   ]
  },
  {
   "cell_type": "markdown",
   "id": "353e9d24",
   "metadata": {
    "id": "353e9d24"
   },
   "source": [
    "## 2. Is the conversion rate (the proportion of users who visit the landing page and get converted) for the new page greater than the conversion rate for the old page?"
   ]
  },
  {
   "cell_type": "markdown",
   "id": "bd7afb91",
   "metadata": {},
   "source": [
    "### Perform Visual Analysis"
   ]
  },
  {
   "cell_type": "code",
   "execution_count": 9,
   "id": "8c5940c2",
   "metadata": {},
   "outputs": [
    {
     "name": "stdout",
     "output_type": "stream",
     "text": [
      "For old landing page, number converted: 29 number not converted: 21\n",
      "For new landing page, number converted: 33 number not converted: 17\n",
      "\n",
      "\n"
     ]
    }
   ],
   "source": [
    "old_converted = olddf['converted'].value_counts()\n",
    "print('For old landing page, number converted:', old_converted[0], 'number not converted:', old_converted[1])\n",
    "new_converted = newdf['converted'].value_counts()\n",
    "print('For new landing page, number converted:', new_converted[0], 'number not converted:', new_converted[1])\n",
    "print('\\n')"
   ]
  },
  {
   "cell_type": "code",
   "execution_count": 10,
   "id": "131f8c9d",
   "metadata": {},
   "outputs": [
    {
     "data": {
      "image/png": "[encoded data removed]",
      "text/plain": [
       "<Figure size 720x504 with 1 Axes>"
      ]
     },
     "metadata": {
      "needs_background": "light"
     },
     "output_type": "display_data"
    }
   ],
   "source": [
    "plt.figure(figsize=(10,7))\n",
    "plt.title('Customers Converted')\n",
    "plt.xlabel('Customers Converted')\n",
    "plt.grid()\n",
    "sns.countplot(data=df,x='converted',  hue='landing_page', order = df['converted'].value_counts().index);"
   ]
  },
  {
   "cell_type": "markdown",
   "id": "28e897e8",
   "metadata": {
    "id": "b7f52898"
   },
   "source": [
    "### Step 1: Define the null and alternate hypotheses"
   ]
  },
  {
   "cell_type": "markdown",
   "id": "1c0e69bb",
   "metadata": {},
   "source": [
    "Let 𝑝1,𝑝2\n",
    "\n",
    "be the proportions of conversions for old and new landing page respectively.\n",
    "\n",
    "This will test the null hypothesis\n",
    "\n",
    "    𝐻0:𝑝1 = 𝑝2\n",
    "\n",
    "against the alternate hypothesis\n",
    "\n",
    "    𝐻𝑎:𝑝2 > 𝑝1\n"
   ]
  },
  {
   "cell_type": "markdown",
   "id": "5efbaae1",
   "metadata": {},
   "source": [
    "### Step 2: Select Appropriate test"
   ]
  },
  {
   "cell_type": "markdown",
   "id": "fe485232",
   "metadata": {},
   "source": [
    "Two Proportion Z-test\n",
    "\n",
    "* Binomally distributed population - Yes, a product is either defective or non-defective.\n",
    "*   Random sampling from the population - Yes, we are informed that the collected sample is a simple random sample.  \n",
    "*   Can the binomial distribution approximated to normal distribution - Yes. For binary data, CLT works slower than usual. The standard thing is to check whether np and n(1-p) are greater than or equal to 10. Here, n and p refer to the sample size and sample proportion respectively.\n",
    "\n",
    "p1 = (33/50) * 50 = 33 which is greater than 10 \n",
    "<br>\n",
    "1-p1 = ((50-33)/50) * 50 = 17 which is greater than 10 \n",
    "\n",
    "p2 = (29/50) * 50 = 29 which is greater than 10  \n",
    "1-p2 = ((50-29)/50) * 50 == 21 which is greater than 10  "
   ]
  },
  {
   "cell_type": "markdown",
   "id": "ec102498",
   "metadata": {},
   "source": [
    "### Step 3: Decide the significance level"
   ]
  },
  {
   "cell_type": "markdown",
   "id": "31c7935a",
   "metadata": {},
   "source": [
    "As mentioned in the \"Objective\" section, the significance level is 5% or 𝛼=0.05"
   ]
  },
  {
   "cell_type": "markdown",
   "id": "441816fe",
   "metadata": {},
   "source": [
    "### Step 4: Collect and prepare data"
   ]
  },
  {
   "cell_type": "code",
   "execution_count": 11,
   "id": "6fb5a6c5",
   "metadata": {},
   "outputs": [
    {
     "name": "stdout",
     "output_type": "stream",
     "text": [
      "The shape of olddf is: \n",
      "olddf has 50 rows and 2 columns.\n",
      "newdf has 50 rows and 2 columns.\n"
     ]
    }
   ],
   "source": [
    "olddf = df[df['landing_page'] == 'old']\n",
    "olddf = olddf.loc[: , [False, False, True, False, True, False]]\n",
    "print('The shape of olddf is: ')\n",
    "print(\"olddf has\", olddf.shape[0], 'rows and', olddf.shape[1], \"columns.\")\n",
    "newdf = df[df['landing_page'] == 'new']\n",
    "newdf = newdf.loc[: , [False, False, True, False, True, False]]\n",
    "print(\"newdf has\", newdf.shape[0], 'rows and', newdf.shape[1], \"columns.\")"
   ]
  },
  {
   "cell_type": "code",
   "execution_count": 12,
   "id": "57840e42",
   "metadata": {},
   "outputs": [
    {
     "name": "stdout",
     "output_type": "stream",
     "text": [
      "For old landing page, number converted: 29 number not converted: 21\n",
      "For new landing page, number converted: 33 number not converted: 17\n"
     ]
    }
   ],
   "source": [
    "old_converted = olddf.value_counts()\n",
    "print('For old landing page, number converted:', old_converted[0], 'number not converted:', old_converted[1])\n",
    "new_converted = newdf.value_counts()\n",
    "print('For new landing page, number converted:', new_converted[0], 'number not converted:', new_converted[1])"
   ]
  },
  {
   "cell_type": "markdown",
   "id": "bbe2a1dc",
   "metadata": {},
   "source": [
    "The data points are: \n",
    "* Control numbers: \n",
    "    * old number of uses: 50 \n",
    "    * new number of users: 50 \n",
    "* Sample size: \n",
    "    * old number converted: 29 \n",
    "    * new number converted: 33\n",
    "    \n",
    "Pass [33,29] and [50,50] to the function to get the p-value"
   ]
  },
  {
   "cell_type": "markdown",
   "id": "05dac337",
   "metadata": {},
   "source": [
    "### Step 5: Calculate the p-value"
   ]
  },
  {
   "cell_type": "code",
   "execution_count": 13,
   "id": "64a7fd9c",
   "metadata": {},
   "outputs": [
    {
     "name": "stdout",
     "output_type": "stream",
     "text": [
      "z-stat is: 0.82408564343033 \n",
      "p-value is: 0.2049454484808052\n"
     ]
    }
   ],
   "source": [
    "# import the required fuction\n",
    "from statsmodels.stats.proportion import proportions_ztest\n",
    "\n",
    "# find the p-value\n",
    "test_stat, p_value = proportions_ztest([33,29], [50,50], alternative = 'larger')    \n",
    "print('z-stat is:', test_stat, '\\np-value is:', p_value)"
   ]
  },
  {
   "cell_type": "markdown",
   "id": "85365de4",
   "metadata": {},
   "source": [
    "### Step 6: Compare the p-value with 𝛼"
   ]
  },
  {
   "cell_type": "code",
   "execution_count": 21,
   "id": "d66ca8ec",
   "metadata": {},
   "outputs": [
    {
     "name": "stdout",
     "output_type": "stream",
     "text": [
      "As the p-value 0.2049454484808052 is greater than the level of significance, we fail to reject the null hypothesis.\n"
     ]
    }
   ],
   "source": [
    "# print the conclusion based on p-value\n",
    "if p_value < 0.05:\n",
    "    print('As the p-value',p_value, 'is less than the level of significance, we reject the null hypothesis.')\n",
    "else:\n",
    "    print('As the p-value', p_value, 'is greater than the level of significance, we fail to reject the null hypothesis.')"
   ]
  },
  {
   "cell_type": "markdown",
   "id": "c51ab1de",
   "metadata": {},
   "source": [
    "### Step 7: Draw inference"
   ]
  },
  {
   "cell_type": "markdown",
   "id": "0bd7a0c2",
   "metadata": {},
   "source": [
    "This is interesting.  All the raw numbers and the graphs would lead to the conclusion that there is a higher conversion rate for the new page.  This is seen in the raw numbers: \n",
    "\n",
    "* For old landing page, number converted: 29 number not converted: 21\n",
    "* For new landing page, number converted: 33 number not converted: 17\n",
    "\n",
    "However, the p-value is way higher than the confidence level so the null hypothesis cannot be rejected.  The conversion rate are the same for the old page and the new page.  \n",
    "\n",
    "While users are spending more time on the new landing page, the new page is not generating a higher conversion rate.  A higher conversion rate is the goal of the project to create a new landing page.  "
   ]
  },
  {
   "cell_type": "markdown",
   "id": "cf12d86d",
   "metadata": {},
   "source": [
    "       "
   ]
  },
  {
   "cell_type": "markdown",
   "id": "d49bfa2d",
   "metadata": {
    "id": "d49bfa2d"
   },
   "source": [
    "## 3. Is the conversion and preferred language are independent or related?"
   ]
  },
  {
   "cell_type": "markdown",
   "id": "6ff72c53",
   "metadata": {},
   "source": [
    "### Perform Visual Analysis"
   ]
  },
  {
   "cell_type": "code",
   "execution_count": 50,
   "id": "aaa40675",
   "metadata": {},
   "outputs": [
    {
     "data": {
      "text/html": [
       "<div>\n",
       "<style scoped>\n",
       "    .dataframe tbody tr th:only-of-type {\n",
       "        vertical-align: middle;\n",
       "    }\n",
       "\n",
       "    .dataframe tbody tr th {\n",
       "        vertical-align: top;\n",
       "    }\n",
       "\n",
       "    .dataframe thead th {\n",
       "        text-align: right;\n",
       "    }\n",
       "</style>\n",
       "<table border=\"1\" class=\"dataframe\">\n",
       "  <thead>\n",
       "    <tr style=\"text-align: right;\">\n",
       "      <th>language_preferred</th>\n",
       "      <th>English</th>\n",
       "      <th>French</th>\n",
       "      <th>Spanish</th>\n",
       "    </tr>\n",
       "    <tr>\n",
       "      <th>converted</th>\n",
       "      <th></th>\n",
       "      <th></th>\n",
       "      <th></th>\n",
       "    </tr>\n",
       "  </thead>\n",
       "  <tbody>\n",
       "    <tr>\n",
       "      <th>no</th>\n",
       "      <td>11</td>\n",
       "      <td>19</td>\n",
       "      <td>16</td>\n",
       "    </tr>\n",
       "    <tr>\n",
       "      <th>yes</th>\n",
       "      <td>21</td>\n",
       "      <td>15</td>\n",
       "      <td>18</td>\n",
       "    </tr>\n",
       "  </tbody>\n",
       "</table>\n",
       "</div>"
      ],
      "text/plain": [
       "language_preferred  English  French  Spanish\n",
       "converted                                   \n",
       "no                       11      19       16\n",
       "yes                      21      15       18"
      ]
     },
     "execution_count": 50,
     "metadata": {},
     "output_type": "execute_result"
    }
   ],
   "source": [
    "tabledf = pd.crosstab(df['converted'],df['language_preferred'])\n",
    "tabledf"
   ]
  },
  {
   "cell_type": "code",
   "execution_count": 51,
   "id": "321646c4",
   "metadata": {},
   "outputs": [
    {
     "data": {
      "text/html": [
       "<div>\n",
       "<style scoped>\n",
       "    .dataframe tbody tr th:only-of-type {\n",
       "        vertical-align: middle;\n",
       "    }\n",
       "\n",
       "    .dataframe tbody tr th {\n",
       "        vertical-align: top;\n",
       "    }\n",
       "\n",
       "    .dataframe thead th {\n",
       "        text-align: right;\n",
       "    }\n",
       "</style>\n",
       "<table border=\"1\" class=\"dataframe\">\n",
       "  <thead>\n",
       "    <tr style=\"text-align: right;\">\n",
       "      <th>language_preferred</th>\n",
       "      <th>English</th>\n",
       "      <th>French</th>\n",
       "      <th>Spanish</th>\n",
       "    </tr>\n",
       "    <tr>\n",
       "      <th>converted</th>\n",
       "      <th></th>\n",
       "      <th></th>\n",
       "      <th></th>\n",
       "    </tr>\n",
       "  </thead>\n",
       "  <tbody>\n",
       "    <tr>\n",
       "      <th>no</th>\n",
       "      <td>0.239130</td>\n",
       "      <td>0.413043</td>\n",
       "      <td>0.347826</td>\n",
       "    </tr>\n",
       "    <tr>\n",
       "      <th>yes</th>\n",
       "      <td>0.388889</td>\n",
       "      <td>0.277778</td>\n",
       "      <td>0.333333</td>\n",
       "    </tr>\n",
       "  </tbody>\n",
       "</table>\n",
       "</div>"
      ],
      "text/plain": [
       "language_preferred   English    French   Spanish\n",
       "converted                                       \n",
       "no                  0.239130  0.413043  0.347826\n",
       "yes                 0.388889  0.277778  0.333333"
      ]
     },
     "execution_count": 51,
     "metadata": {},
     "output_type": "execute_result"
    }
   ],
   "source": [
    "indexdf = pd.crosstab(df['converted'],df['language_preferred'],normalize='index')\n",
    "indexdf"
   ]
  },
  {
   "cell_type": "code",
   "execution_count": 52,
   "id": "a1d0a0fd",
   "metadata": {},
   "outputs": [
    {
     "data": {
      "image/png": "[encoded data removed]",
      "text/plain": [
       "<Figure size 432x576 with 1 Axes>"
      ]
     },
     "metadata": {
      "needs_background": "light"
     },
     "output_type": "display_data"
    }
   ],
   "source": [
    "indexdf.plot(kind=\"bar\", figsize=(6,8))\n",
    "plt.legend()\n",
    "plt.show()"
   ]
  },
  {
   "cell_type": "markdown",
   "id": "921bc3ba",
   "metadata": {},
   "source": [
    "More users with an English langauge preferrence are converting to be subscribers.  That is not the case with French or Spanish.  In fact for French, just the opposite is true as most Frech users are choosing to stay with the old landing page. "
   ]
  },
  {
   "cell_type": "markdown",
   "id": "7c355eee",
   "metadata": {},
   "source": [
    "### Step 1: Define the null and alternate hypotheses"
   ]
  },
  {
   "cell_type": "markdown",
   "id": "9a000dfd",
   "metadata": {},
   "source": [
    "𝐻0: Conversion is independent of language preference\n",
    "\n",
    "   against the alternate hypothesis\n",
    "\n",
    "𝐻𝑎: Conversion depends on language preference \n"
   ]
  },
  {
   "cell_type": "markdown",
   "id": "1b9f2c9f",
   "metadata": {},
   "source": [
    "### Step 2: Select Appropriate test"
   ]
  },
  {
   "cell_type": "markdown",
   "id": "879860b3",
   "metadata": {},
   "source": [
    "Chi-Square Test for Independence\n",
    "\n",
    "From the week 3 notebook: \n",
    "<br>\n",
    "Let's test whether the assumptions are satisfied or not\n",
    "\n",
    "    Categorical variables - Yes\n",
    "    Expected value of the number of sample observations in each level of the variable is at least 5 - Yes, the number of observations in each level is greater than 5.\n",
    "    Random sampling from the population - Yes, we are informed that the collected sample is a simple random sample.\n"
   ]
  },
  {
   "cell_type": "markdown",
   "id": "cf3ecfbc",
   "metadata": {},
   "source": [
    "### Step 3: Decide the significance level"
   ]
  },
  {
   "cell_type": "markdown",
   "id": "1c75c968",
   "metadata": {},
   "source": [
    "As mentioned in the \"Objective\" section, the significance level is 5% or 𝛼=0.05"
   ]
  },
  {
   "cell_type": "markdown",
   "id": "fd8e57f5",
   "metadata": {},
   "source": [
    "### Step 4: Collect and prepare data"
   ]
  },
  {
   "cell_type": "code",
   "execution_count": 53,
   "id": "02fcbb2d",
   "metadata": {},
   "outputs": [],
   "source": [
    "noEng = tabledf.iloc[0,0]\n",
    "noFre = tabledf.iloc[0,1]\n",
    "noSpa = tabledf.iloc[0,2]\n",
    "yesEng = tabledf.iloc[1,0]\n",
    "yesFre = tabledf.iloc[1,1]\n",
    "yesSpa = tabledf.iloc[1,2]\n",
    "tempdf = pd.DataFrame([[noEng, noFre, noSpa], [yesEng, yesFre, yesSpa]])\n",
    "\n",
    "# The code is not pretty, but it works.  I could not figure out how to strip the header and index from \n",
    "# tabledf so I picked the individual values and created a DataFrame "
   ]
  },
  {
   "cell_type": "markdown",
   "id": "31f2e876",
   "metadata": {},
   "source": [
    "### Step 5: Calculate the p-value"
   ]
  },
  {
   "cell_type": "code",
   "execution_count": 95,
   "id": "04a3a8f6",
   "metadata": {},
   "outputs": [
    {
     "name": "stdout",
     "output_type": "stream",
     "text": [
      "The p-value is 0.21298887487543447\n"
     ]
    }
   ],
   "source": [
    "# import the required function\n",
    "from scipy.stats import chi2_contingency\n",
    "\n",
    "# find the p-value  \n",
    "chi, p_value, dof, expected = chi2_contingency(tempdf)\n",
    "print('The p-value is', p_value)"
   ]
  },
  {
   "cell_type": "markdown",
   "id": "2dceb062",
   "metadata": {},
   "source": [
    "### Step 6: Compare the p-value with 𝛼"
   ]
  },
  {
   "cell_type": "code",
   "execution_count": 31,
   "id": "c6616dfd",
   "metadata": {},
   "outputs": [
    {
     "name": "stdout",
     "output_type": "stream",
     "text": [
      "As the p-value 0.21298887487543447 is greater than the level of significance, we fail to reject the null hypothesis.\n"
     ]
    }
   ],
   "source": [
    "# print the conclusion based on p-value\n",
    "if p_value < 0.05:\n",
    "    print('As the p-value',p_value, 'is less than the level of significance, we reject the null hypothesis.')\n",
    "else:\n",
    "    print('As the p-value', p_value, 'is greater than the level of significance, we fail to reject the null hypothesis.')"
   ]
  },
  {
   "cell_type": "markdown",
   "id": "7809dfbd",
   "metadata": {
    "id": "b0e63f17"
   },
   "source": [
    "### Step 7: Draw inference"
   ]
  },
  {
   "cell_type": "markdown",
   "id": "9b2c37a8",
   "metadata": {},
   "source": [
    "The null hypothesis is the conversion rate is independent of language preference.  This statistical test has failed to reject the null hypothesis which means the conversion rate is indepentent of the langaguge preference.  This does make logical sense.  "
   ]
  },
  {
   "cell_type": "markdown",
   "id": "bc197a39",
   "metadata": {},
   "source": [
    "       "
   ]
  },
  {
   "cell_type": "markdown",
   "id": "8d585a90",
   "metadata": {
    "id": "8d585a90"
   },
   "source": [
    "## 4. Is the time spent on the new page same for the different language users?"
   ]
  },
  {
   "cell_type": "markdown",
   "id": "ca812ae6",
   "metadata": {},
   "source": [
    "### Perform Visual Analysis"
   ]
  },
  {
   "cell_type": "code",
   "execution_count": 54,
   "id": "af0b4825",
   "metadata": {},
   "outputs": [
    {
     "name": "stdout",
     "output_type": "stream",
     "text": [
      "there are 50 rows and 6 columns\n"
     ]
    }
   ],
   "source": [
    "newdf = df[df['landing_page'] == 'new']\n",
    "print('there are',newdf.shape[0], 'rows and', newdf.shape[1], 'columns')"
   ]
  },
  {
   "cell_type": "code",
   "execution_count": 55,
   "id": "2c273689",
   "metadata": {},
   "outputs": [
    {
     "data": {
      "text/plain": [
       "French     17\n",
       "Spanish    17\n",
       "English    16\n",
       "Name: language_preferred, dtype: int64"
      ]
     },
     "execution_count": 55,
     "metadata": {},
     "output_type": "execute_result"
    }
   ],
   "source": [
    "newdf['language_preferred'].value_counts()"
   ]
  },
  {
   "cell_type": "code",
   "execution_count": 56,
   "id": "96005df7",
   "metadata": {},
   "outputs": [
    {
     "data": {
      "image/png": "[encoded data removed]",
      "text/plain": [
       "<Figure size 720x504 with 1 Axes>"
      ]
     },
     "metadata": {
      "needs_background": "light"
     },
     "output_type": "display_data"
    }
   ],
   "source": [
    "plt.figure(figsize=(10,7))\n",
    "plt.title('New Page by Language Preference')\n",
    "plt.xlabel('Language')\n",
    "sns.countplot(data=newdf,x='language_preferred',  order = df['language_preferred'].value_counts().index);"
   ]
  },
  {
   "cell_type": "code",
   "execution_count": 22,
   "id": "3ff72bde",
   "metadata": {},
   "outputs": [
    {
     "data": {
      "image/png": "[encoded data removed]",
      "text/plain": [
       "<Figure size 720x504 with 1 Axes>"
      ]
     },
     "metadata": {
      "needs_background": "light"
     },
     "output_type": "display_data"
    }
   ],
   "source": [
    "plt.figure(figsize=(10,7))\n",
    "plt.grid()\n",
    "plt.title('Time Spent on Page by Language')\n",
    "plt.xlabel('Language')\n",
    "sns.boxplot(data=newdf, x='language_preferred', y='time_spent_on_the_page', showmeans=True)\n",
    "plt.show()\n"
   ]
  },
  {
   "cell_type": "code",
   "execution_count": 28,
   "id": "cf3eef2f",
   "metadata": {},
   "outputs": [
    {
     "data": {
      "image/png": "[encoded data removed]",
      "text/plain": [
       "<Figure size 720x504 with 1 Axes>"
      ]
     },
     "metadata": {
      "needs_background": "light"
     },
     "output_type": "display_data"
    }
   ],
   "source": [
    "plt.figure(figsize=(10,7))\n",
    "plt.grid()\n",
    "plt.title('Time Spent on Page by Language Histogram')\n",
    "plt.xlabel('Language')\n",
    "sns.histplot(data=newdf, x='time_spent_on_the_page', hue='language_preferred', kde = True);\n",
    "plt.show()"
   ]
  },
  {
   "cell_type": "code",
   "execution_count": 57,
   "id": "d088c8ca",
   "metadata": {},
   "outputs": [
    {
     "name": "stdout",
     "output_type": "stream",
     "text": [
      "The mean time on the new page for English is 6.66\n",
      "The mean time on the new page for French is 6.2\n",
      "The mean time on the new page for Spanish is 5.84\n"
     ]
    }
   ],
   "source": [
    "langmeans = newdf.groupby(['language_preferred'])['time_spent_on_the_page'].mean()\n",
    "print('The mean time on the new page for English is', round(langmeans[0],2)) \n",
    "print('The mean time on the new page for French is', round(langmeans[1],2))\n",
    "print('The mean time on the new page for Spanish is', round(langmeans[2],2))"
   ]
  },
  {
   "cell_type": "markdown",
   "id": "709c45d0",
   "metadata": {},
   "source": [
    "### Step 1: Define the null and alternate hypotheses"
   ]
  },
  {
   "cell_type": "markdown",
   "id": "a127ca91",
   "metadata": {},
   "source": [
    "Let 𝜇1,𝜇2,𝜇3\n",
    "\n",
    "be the means of the time spent on the page for English, French, and Spanish respectively.\n",
    "\n",
    "We will test the null hypothesis\n",
    "\n",
    "    𝐻0:𝜇1=𝜇2=𝜇3\n",
    "\n",
    "against the alternative hypothesis\n",
    "\n",
    "    𝐻𝑎: At least one one mean viewing time for one language is different from the rest."
   ]
  },
  {
   "cell_type": "markdown",
   "id": "7f5e8c27",
   "metadata": {},
   "source": [
    "### Step 2: Select Appropriate test"
   ]
  },
  {
   "cell_type": "markdown",
   "id": "3555ac0d",
   "metadata": {},
   "source": [
    "One-way ANOVA Test\n",
    "\n",
    "The test is to determine whether the means of more than two, in this case three, independent populations are signiticantly different. "
   ]
  },
  {
   "cell_type": "markdown",
   "id": "c31254f2",
   "metadata": {},
   "source": [
    "### Step 3: Decide the significance level"
   ]
  },
  {
   "cell_type": "markdown",
   "id": "3d73d232",
   "metadata": {},
   "source": [
    "As mentioned in the \"Objective\" section, the significance level is 5% or 𝛼=0.05"
   ]
  },
  {
   "cell_type": "markdown",
   "id": "c3ef61e3",
   "metadata": {},
   "source": [
    "### Step 4: Collect and prepare data"
   ]
  },
  {
   "cell_type": "code",
   "execution_count": 58,
   "id": "2707688e",
   "metadata": {},
   "outputs": [
    {
     "name": "stdout",
     "output_type": "stream",
     "text": [
      "Total time spent on page for English is: 106.62\n",
      "Total time spent on page for French is: 105.34\n",
      "Total time spent on page for Spanish is: 99.2\n"
     ]
    }
   ],
   "source": [
    "eng_time = newdf[newdf['language_preferred'] == 'English']['time_spent_on_the_page'].sum()\n",
    "fre_time = newdf[newdf['language_preferred'] == 'French']['time_spent_on_the_page'].sum()\n",
    "spa_time = newdf[newdf['language_preferred'] == 'Spanish']['time_spent_on_the_page'].sum()\n",
    "print('Total time spent on page for English is:', eng_time)\n",
    "print('Total time spent on page for French is:', fre_time)\n",
    "print('Total time spent on page for Spanish is:', spa_time)"
   ]
  },
  {
   "cell_type": "code",
   "execution_count": 59,
   "id": "0b664f53",
   "metadata": {},
   "outputs": [
    {
     "name": "stdout",
     "output_type": "stream",
     "text": [
      "The mean time on the new page for English is 6.66\n",
      "The mean time on the new page for French is 6.2\n",
      "The mean time on the new page for Spanish is 5.84\n"
     ]
    }
   ],
   "source": [
    "langmeans = newdf.groupby(['language_preferred'])['time_spent_on_the_page'].mean()\n",
    "print('The mean time on the new page for English is', round(langmeans[0],2)) \n",
    "print('The mean time on the new page for French is', round(langmeans[1],2))\n",
    "print('The mean time on the new page for Spanish is', round(langmeans[2],2))"
   ]
  },
  {
   "cell_type": "code",
   "execution_count": 60,
   "id": "f0c20db3",
   "metadata": {},
   "outputs": [
    {
     "data": {
      "image/png": "[encoded data removed]",
      "text/plain": [
       "<Figure size 720x504 with 1 Axes>"
      ]
     },
     "metadata": {
      "needs_background": "light"
     },
     "output_type": "display_data"
    }
   ],
   "source": [
    "fig, ax = plt.subplots(figsize = (10,7))\n",
    "a = sns.boxplot(x= \"language_preferred\", y = 'time_spent_on_the_page' , data = newdf, \n",
    "                hue = 'language_preferred', showmeans=True)\n",
    "a.set_title(\"Time Spent on Landing Page by Language Preference\", fontsize=15)\n",
    "plt.grid()\n",
    "plt.show()"
   ]
  },
  {
   "cell_type": "markdown",
   "id": "2b5edcfe",
   "metadata": {},
   "source": [
    "### Shapiro-Wilk’s test\n",
    "\n",
    "We will test the null hypothesis\n",
    "\n",
    ">$H_0:$ Time spent on the landing page follows a normal distribution against\n",
    "\n",
    "against the alternative hypothesis\n",
    "\n",
    ">$H_a:$ Time spent on the landing page does not follow a normal distribution"
   ]
  },
  {
   "cell_type": "code",
   "execution_count": 61,
   "id": "268ed148",
   "metadata": {},
   "outputs": [
    {
     "name": "stdout",
     "output_type": "stream",
     "text": [
      "The p-value is 0.8040016293525696\n"
     ]
    }
   ],
   "source": [
    "# Assumption 1: Normality\n",
    "# import the required function\n",
    "from scipy import stats\n",
    "\n",
    "# find the p-value\n",
    "w, p_value = stats.shapiro(newdf['time_spent_on_the_page']) \n",
    "print('The p-value is', p_value)"
   ]
  },
  {
   "cell_type": "code",
   "execution_count": 62,
   "id": "94a76f6e",
   "metadata": {},
   "outputs": [
    {
     "name": "stdout",
     "output_type": "stream",
     "text": [
      "As the p-value 0.8040016293525696 is greater than the level of significance, we fail to reject the null hypothesis.\n"
     ]
    }
   ],
   "source": [
    "# print the conclusion based on p-value\n",
    "if p_value < 0.05:\n",
    "    print('As the p-value',p_value, 'is less than the level of significance, we reject the null hypothesis.')\n",
    "else:\n",
    "    print('As the p-value', p_value, 'is greater than the level of significance, we fail to reject the null hypothesis.')"
   ]
  },
  {
   "cell_type": "markdown",
   "id": "58064b4f",
   "metadata": {},
   "source": [
    "### Levene’s test\n",
    "\n",
    "We will test the null hypothesis\n",
    "\n",
    ">$H_0$: All the population variances are equal\n",
    "\n",
    "against the alternative hypothesis\n",
    "\n",
    ">$H_a$: At least one variance is different from the rest"
   ]
  },
  {
   "cell_type": "code",
   "execution_count": 63,
   "id": "18c1ed41",
   "metadata": {},
   "outputs": [
    {
     "name": "stdout",
     "output_type": "stream",
     "text": [
      "The p-value is 0.46711357711340173\n"
     ]
    }
   ],
   "source": [
    "#Assumption 2: Homogeneity of Variance\n",
    "#import the required function\n",
    "from scipy.stats import levene\n",
    "statistic, p_value = levene( newdf['time_spent_on_the_page'][newdf['language_preferred']==\"English\"], \n",
    "                                   newdf['time_spent_on_the_page'][newdf['language_preferred']==\"French\"], \n",
    "                                   newdf['time_spent_on_the_page'][newdf['language_preferred']==\"Spanish\"]  )\n",
    "# find the p-value\n",
    "print('The p-value is', p_value)"
   ]
  },
  {
   "cell_type": "code",
   "execution_count": 64,
   "id": "3aefd5b3",
   "metadata": {},
   "outputs": [
    {
     "name": "stdout",
     "output_type": "stream",
     "text": [
      "As the p-value 0.46711357711340173 is greater than the level of significance, we fail to reject the null hypothesis.\n"
     ]
    }
   ],
   "source": [
    "# print the conclusion based on p-value\n",
    "if p_value < 0.05:\n",
    "    print('As the p-value',p_value, 'is less than the level of significance, we reject the null hypothesis.')\n",
    "else:\n",
    "    print('As the p-value', p_value, 'is greater than the level of significance, we fail to reject the null hypothesis.')"
   ]
  },
  {
   "cell_type": "markdown",
   "id": "d93ee92e",
   "metadata": {},
   "source": [
    "From the week 3 notebook: \n",
    "<br>\n",
    "Test whether the assumptions are satisfied or not\n",
    "\n",
    "* The populations are normally distributed - Yes, the normality assumption is verified using the Shapiro-Wilk’s test.\n",
    "* Samples are independent simple random samples - Yes, we are informed that the collected sample is a simple random sample.\n",
    "* Population variances are equal - Yes, the homogeneity of variance assumption is verified using the Levene's test"
   ]
  },
  {
   "cell_type": "markdown",
   "id": "9b14ce08",
   "metadata": {},
   "source": [
    "### Step 5: Calculate the p-value"
   ]
  },
  {
   "cell_type": "code",
   "execution_count": 21,
   "id": "72c8552d",
   "metadata": {},
   "outputs": [
    {
     "name": "stdout",
     "output_type": "stream",
     "text": [
      "z-stat is: 0.8543992770006822 \n",
      "p-value is: 0.43204138694325955\n"
     ]
    }
   ],
   "source": [
    "#import the required function\n",
    "from scipy.stats import f_oneway\n",
    "\n",
    "# perform one-way anova test\n",
    "test_stat, p_value = f_oneway(newdf.loc[newdf['language_preferred'] == 'English', 'time_spent_on_the_page'],\n",
    "                              newdf.loc[newdf['language_preferred'] == 'French', 'time_spent_on_the_page'],\n",
    "                              newdf.loc[newdf['language_preferred'] == 'Spanish', 'time_spent_on_the_page'])\n",
    "print('z-stat is:', test_stat, '\\np-value is:', p_value)"
   ]
  },
  {
   "cell_type": "markdown",
   "id": "2df73cd4",
   "metadata": {},
   "source": [
    "### Step 6: Compare the p-value with 𝛼"
   ]
  },
  {
   "cell_type": "code",
   "execution_count": 22,
   "id": "d9f9e585",
   "metadata": {},
   "outputs": [
    {
     "name": "stdout",
     "output_type": "stream",
     "text": [
      "As the p-value 0.43204138694325955 is greater than the level of significance, we fail to reject the null hypothesis.\n"
     ]
    }
   ],
   "source": [
    "# print the conclusion based on p-value\n",
    "if p_value < 0.05:\n",
    "    print('As the p-value',p_value, 'is less than the level of significance, we reject the null hypothesis.')\n",
    "else:\n",
    "    print('As the p-value', p_value, 'is greater than the level of significance, we fail to reject the null hypothesis.')"
   ]
  },
  {
   "cell_type": "markdown",
   "id": "ad30e4dd",
   "metadata": {
    "id": "b422f395"
   },
   "source": [
    "### Step 7: Draw inference"
   ]
  },
  {
   "cell_type": "markdown",
   "id": "24a5f824",
   "metadata": {},
   "source": [
    "Given this test, we fail to reject the null hypothesis that the mean times for viewing the new landing page are the same for each language.  Statistically speaking, they are the same. Language perference is not a market differentiator. "
   ]
  },
  {
   "cell_type": "markdown",
   "id": "968ecc8b",
   "metadata": {},
   "source": [
    "       "
   ]
  },
  {
   "cell_type": "markdown",
   "id": "3acbc947",
   "metadata": {
    "id": "3acbc947"
   },
   "source": [
    "## Conclusion "
   ]
  },
  {
   "cell_type": "markdown",
   "id": "21fb1063",
   "metadata": {
    "id": "21fb1063"
   },
   "source": [
    "### Objectives for the test\n",
    "1. Do the users spend more time on the new landing page than on the existing landing page?\n",
    "2. Is the conversion rate (the proportion of users who visit the landing page and get converted) for the new page greater than the conversion rate for the old page?\n",
    "3. Does the converted status depend on the preferred language?   \n",
    "4. Is the time spent on the new page the same for the different language users?\n",
    "\n",
    "### Test Results\n",
    "1. Users spend more time on the new landing page.  It is a success. \n",
    "2. The conversion rate for the new landing page is not statistically different from the old page. \n",
    "3. Langauge preference does not have any statistically bearing on the conversion rate. \n",
    "4. The time spent on the new landing page is the same for the different language users. \n",
    "5. The conversion rate is 42% for both the old and new landing page which is higher than the national average\n",
    "\n",
    "### Conclusion \n",
    "1. New landing page is popular with the users\n",
    "2. New landing page does not lead to a higher conversion rate \n",
    "3. Main goal for creating the new landing page has not been met  \n",
    "4. Develop another stategy for increasing conversion rate "
   ]
  },
  {
   "cell_type": "markdown",
   "id": "9241f710",
   "metadata": {},
   "source": [
    "## Business Recommendations"
   ]
  },
  {
   "cell_type": "markdown",
   "id": "0e771b95",
   "metadata": {},
   "source": [
    "1. Keep the new landing page as it is popular with the users \n",
    "2. Determine why the French language user are unhappy with the new landing page \n",
    "    1. French has the lowest amount of users accessing the new landing page \n",
    "3. Conduct another study to determine a better strategy to increase the conversion rate following these seven guidelines: \n",
    "    1. Create Quality Content to Match Search Intent\n",
    "    2. Use the Right Call To Action \n",
    "    3. Focus on Design for Subscriptions\n",
    "    4. Use Different Types of Content\n",
    "    5. Use Lightboxes \n",
    "    6. Advertise Your Subscription: Solve Problems\n",
    "    7. Analyze Your Content\n",
    "4. Track the user journey through the web site to determine the most popular content \n",
    "5. Mobile enable the content if not already done so \n",
    "6. Develop and implement a better or new advertising/marketing campaign for the subscription service \n",
    "7. Clearly show the benefits of subscribing to the web site "
   ]
  },
  {
   "cell_type": "markdown",
   "id": "cf114c9b",
   "metadata": {},
   "source": [
    "## Future Recommendations:\n",
    "* Add device type (Computer, iOS, Andriod) to determine the device being used\n",
    "    * May need to tune content and/or performance for most popular devices \n",
    "* Add day and time of day to determine the most popular days and times \n",
    "* Add geographic data to determine the most popular areas \n",
    "    * Can customize news for local areas\n",
    "    * Local news sells \n",
    "* Analyze user usage and reading habits to determine most popular content\n",
    "    * Can futher refine using device type \n",
    "    * Can further refine using geographic location \n",
    "* Ask for feedback and rating on new landing page from customers \n",
    "* Add the ability for user to get alerts of breaking news or news relevant to them provided they are a subscribed user\n",
    "* Add additional commentary and analysis to the content on the site "
   ]
  },
  {
   "cell_type": "markdown",
   "id": "U0dAd4i0iCHo",
   "metadata": {
    "id": "U0dAd4i0iCHo"
   },
   "source": [
    "___"
   ]
  }
 ],
 "metadata": {
  "colab": {
   "collapsed_sections": [
    "a6a3d218",
    "6970dd99",
    "9d75cfa2",
    "68f3b2c9",
    "fad2de2f",
    "27906576",
    "e5fdf0c8",
    "56b3dafd",
    "c7ee4907",
    "3f58c9a7",
    "5fed2eac",
    "f5c5258d",
    "359b12f8",
    "d9affc84",
    "353e9d24",
    "d49bfa2d",
    "8d585a90",
    "3acbc947"
   ],
   "name": "ENews_Express_Learner_Notebook_Full_Code v1.1.ipynb",
   "provenance": []
  },
  "kernelspec": {
   "display_name": "Python 3 (ipykernel)",
   "language": "python",
   "name": "python3"
  },
  "language_info": {
   "codemirror_mode": {
    "name": "ipython",
    "version": 3
   },
   "file_extension": ".py",
   "mimetype": "text/x-python",
   "name": "python",
   "nbconvert_exporter": "python",
   "pygments_lexer": "ipython3",
   "version": "3.9.7"
  }
 },
 "nbformat": 4,
 "nbformat_minor": 5
}
